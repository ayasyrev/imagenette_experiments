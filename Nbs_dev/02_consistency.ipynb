{
 "cells": [
  {
   "cell_type": "code",
   "execution_count": null,
   "metadata": {},
   "outputs": [],
   "source": [
    "# default_exp consistency"
   ]
  },
  {
   "cell_type": "markdown",
   "metadata": {},
   "source": [
    "# consistency\n",
    "> Utils for set consistency."
   ]
  },
  {
   "cell_type": "code",
   "execution_count": null,
   "metadata": {},
   "outputs": [],
   "source": [
    "# export\n",
    "# hide\n",
    "import torch, random\n",
    "import numpy as np"
   ]
  },
  {
   "cell_type": "code",
   "execution_count": null,
   "metadata": {},
   "outputs": [],
   "source": [
    "# hide\n",
    "# todo Check availability np, random and others..."
   ]
  },
  {
   "cell_type": "code",
   "execution_count": null,
   "metadata": {},
   "outputs": [],
   "source": [
    "# export\n",
    "# hide\n",
    "SEED_N = 2020"
   ]
  },
  {
   "cell_type": "code",
   "execution_count": null,
   "metadata": {},
   "outputs": [],
   "source": [
    "# hide\n",
    "# export\n",
    "\n",
    "# Copyed from Catalist fraimwork. \n",
    "# TODO find url to source.\n",
    "def prepare_cudnn(deterministic: bool = None, benchmark: bool = None) -> None:\n",
    "    \"\"\"\n",
    "    Prepares CuDNN benchmark and sets CuDNN\n",
    "    to be deterministic/non-deterministic mode\n",
    "    Args:\n",
    "        deterministic (bool): deterministic mode if running in CuDNN backend.\n",
    "        benchmark (bool): If ``True`` use CuDNN heuristics to figure out\n",
    "            which algorithm will be most performant\n",
    "            for your model architecture and input.\n",
    "            Setting it to ``False`` may slow down your training.\n",
    "    \"\"\"\n",
    "    if torch.cuda.is_available():\n",
    "        # CuDNN reproducibility\n",
    "        # https://pytorch.org/docs/stable/notes/randomness.html#cudnn\n",
    "        if deterministic is None:\n",
    "            import os\n",
    "            deterministic = \\\n",
    "                os.environ.get(\"CUDNN_DETERMINISTIC\", \"False\") == \"True\"\n",
    "        torch.backends.cudnn.deterministic = deterministic\n",
    "\n",
    "        # https://discuss.pytorch.org/t/how-should-i-disable-using-cudnn-in-my-code/38053/4\n",
    "        if benchmark is None:\n",
    "            import os\n",
    "            benchmark = os.environ.get(\"CUDNN_BENCHMARK\", \"True\") == \"True\"\n",
    "        torch.backends.cudnn.benchmark = benchmark"
   ]
  },
  {
   "cell_type": "code",
   "execution_count": null,
   "metadata": {},
   "outputs": [],
   "source": [
    "# hide\n",
    "# export\n",
    "# benchmark = False\n",
    "# deterministic = True\n",
    "torch.set_printoptions(precision=10)"
   ]
  },
  {
   "cell_type": "code",
   "execution_count": null,
   "metadata": {},
   "outputs": [
    {
     "data": {
      "text/plain": [
       "True"
      ]
     },
     "execution_count": null,
     "metadata": {},
     "output_type": "execute_result"
    }
   ],
   "source": [
    "torch.backends.cudnn.benchmark"
   ]
  },
  {
   "cell_type": "code",
   "execution_count": null,
   "metadata": {},
   "outputs": [
    {
     "data": {
      "text/plain": [
       "False"
      ]
     },
     "execution_count": null,
     "metadata": {},
     "output_type": "execute_result"
    }
   ],
   "source": [
    "torch.backends.cudnn.deterministic"
   ]
  },
  {
   "cell_type": "code",
   "execution_count": null,
   "metadata": {},
   "outputs": [],
   "source": [
    "#hide\n",
    "# prepare_cudnn(deterministic, benchmark)\n",
    "prepare_cudnn()"
   ]
  },
  {
   "cell_type": "code",
   "execution_count": null,
   "metadata": {},
   "outputs": [],
   "source": [
    "# hide\n",
    "# export\n",
    "def set_global_seed(seed: int) -> None:\n",
    "    \"\"\"\n",
    "    Sets random seed into PyTorch, TensorFlow, Numpy and Random\n",
    "    Args: seed: random seed\n",
    "    \"\"\"\n",
    "    try:\n",
    "        import torch\n",
    "    except ImportError:\n",
    "        pass\n",
    "    else:\n",
    "        torch.manual_seed(seed)\n",
    "        torch.cuda.manual_seed_all(seed)\n",
    "    random.seed(seed)\n",
    "    np.random.seed(seed)"
   ]
  },
  {
   "cell_type": "code",
   "execution_count": null,
   "metadata": {},
   "outputs": [],
   "source": []
  },
  {
   "cell_type": "code",
   "execution_count": null,
   "metadata": {},
   "outputs": [],
   "source": [
    "# hide\n",
    "# export\n",
    "def set_consistance(SEED_N=SEED_N):\n",
    "    print(f\"Set consistance..... seed {SEED_N}\")\n",
    "    set_global_seed(SEED_N)\n",
    "    prepare_cudnn()"
   ]
  },
  {
   "cell_type": "code",
   "execution_count": null,
   "metadata": {},
   "outputs": [
    {
     "name": "stdout",
     "output_type": "stream",
     "text": [
      "Set consistance..... seed 2020\n"
     ]
    }
   ],
   "source": [
    "# hide\n",
    "set_consistance()"
   ]
  },
  {
   "cell_type": "code",
   "execution_count": null,
   "metadata": {},
   "outputs": [],
   "source": []
  },
  {
   "cell_type": "code",
   "execution_count": null,
   "metadata": {},
   "outputs": [],
   "source": []
  },
  {
   "cell_type": "code",
   "execution_count": null,
   "metadata": {},
   "outputs": [],
   "source": []
  }
 ],
 "metadata": {
  "kernelspec": {
   "display_name": "Python 3",
   "language": "python",
   "name": "python3"
  }
 },
 "nbformat": 4,
 "nbformat_minor": 2
}
